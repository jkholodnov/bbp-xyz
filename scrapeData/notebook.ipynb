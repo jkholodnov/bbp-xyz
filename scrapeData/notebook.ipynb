{
 "worksheets": [
  {
   "cells": [
    {
     "cell_type": "code",
     "execution_count": null,
     "metadata": {},
     "outputs": [
      {
       "output_type": "pyout",
       "prompt_number": 8,
       "text": [
        "{'away_score': '109',\n 'away_team': [{'3pta': '0',\n   '3ptm': '0',\n   'ast': '0',\n   'blk': '0',\n   'dreb': '6',\n   'fga': '17',\n   'fgm': '9',\n   'fta': '1',\n   'ftm': '1',\n   'injured': False,\n   'min': '26',\n   'name': 'T. Young',\n   'oreb': '2',\n   'pf': '0',\n   'player_id': '3244',\n   'plus_minus': '-11',\n   'pts': '19',\n   'reb': '8',\n   'stl': '0',\n   'to': '2'},\n  {'3pta': '1',\n   '3ptm': '0',\n   'ast': '4',\n   'blk': '0',\n   'dreb': '3',\n   'fga': '7',\n   'fgm': '2',\n   'fta': '4',\n   'ftm': '4',\n   'injured': False,\n   'min': '27',\n   'name': 'J. Johnson',\n   'oreb': '0',\n   'pf': '2',\n   'player_id': '1007',\n   'plus_minus': '-3',\n   'pts': '8',\n   'reb': '3',\n   'stl': '0',\n   'to': '1'},\n  {'3pta': '1',\n   '3ptm': '0',\n   'ast': '3',\n   'blk': '2',\n   'dreb': '3',\n   'fga': '6',\n   'fgm': '2',\n   'fta': '10',\n   'ftm': '8',\n   'injured': False,\n   'min': '27',\n   'name': 'B. Lopez',\n   'oreb': '2',\n   'pf': '2',\n   'player_id': '3448',\n   'plus_minus': '-6',\n   'pts': '12',\n   'reb': '5',\n   'stl': '1',\n   'to': '1'},\n  {'3pta': '4',\n   '3ptm': '1',\n   'ast': '1',\n   'blk': '0',\n   'dreb': '1',\n   'fga': '8',\n   'fgm': '3',\n   'fta': '3',\n   'ftm': '3',\n   'injured': False,\n   'min': '29',\n   'name': 'S. Larkin',\n   'oreb': '0',\n   'pf': '2',\n   'player_id': '2596158',\n   'plus_minus': '-7',\n   'pts': '10',\n   'reb': '1',\n   'stl': '0',\n   'to': '3'},\n  {'3pta': '1',\n   '3ptm': '1',\n   'ast': '1',\n   'blk': '0',\n   'dreb': '2',\n   'fga': '6',\n   'fgm': '2',\n   'fta': '0',\n   'ftm': '0',\n   'injured': False,\n   'min': '14',\n   'name': 'W. Ellington',\n   'oreb': '0',\n   'pf': '0',\n   'player_id': '3981',\n   'plus_minus': '-10',\n   'pts': '5',\n   'reb': '2',\n   'stl': '1',\n   'to': '1'},\n  {'3pta': '3',\n   '3ptm': '2',\n   'ast': '0',\n   'blk': '0',\n   'dreb': '1',\n   'fga': '4',\n   'fgm': '3',\n   'fta': '0',\n   'ftm': '0',\n   'injured': False,\n   'min': '9',\n   'name': 'J. Harper',\n   'oreb': '1',\n   'pf': '2',\n   'player_id': '6438',\n   'plus_minus': '+14',\n   'pts': '8',\n   'reb': '2',\n   'stl': '0',\n   'to': '0'},\n  {'3pta': '0',\n   '3ptm': '0',\n   'ast': '0',\n   'blk': '2',\n   'dreb': '8',\n   'fga': '5',\n   'fgm': '1',\n   'fta': '0',\n   'ftm': '0',\n   'injured': False,\n   'min': '18',\n   'name': 'T. Robinson',\n   'oreb': '4',\n   'pf': '1',\n   'player_id': '6618',\n   'plus_minus': '-13',\n   'pts': '2',\n   'reb': '12',\n   'stl': '1',\n   'to': '1'},\n  {'3pta': '0',\n   '3ptm': '0',\n   'ast': '0',\n   'blk': '0',\n   'dreb': '2',\n   'fga': '2',\n   'fgm': '0',\n   'fta': '0',\n   'ftm': '0',\n   'injured': False,\n   'min': '5',\n   'name': 'W. Reed',\n   'oreb': '0',\n   'pf': '0',\n   'player_id': '2326015',\n   'plus_minus': '+5',\n   'pts': '0',\n   'reb': '2',\n   'stl': '1',\n   'to': '0'},\n  {'3pta': '0',\n   '3ptm': '0',\n   'ast': '0',\n   'blk': '0',\n   'dreb': '0',\n   'fga': '0',\n   'fgm': '0',\n   'fta': '0',\n   'ftm': '0',\n   'injured': False,\n   'min': '3',\n   'name': 'Q. Miller',\n   'oreb': '0',\n   'pf': '1',\n   'player_id': '6611',\n   'plus_minus': '+9',\n   'pts': '0',\n   'reb': '0',\n   'stl': '1',\n   'to': '0'},\n  {'3pta': '2',\n   '3ptm': '1',\n   'ast': '0',\n   'blk': '0',\n   'dreb': '1',\n   'fga': '7',\n   'fgm': '3',\n   'fta': '0',\n   'ftm': '0',\n   'injured': False,\n   'min': '9',\n   'name': 'C. Daniels',\n   'oreb': '0',\n   'pf': '1',\n   'player_id': '6482',\n   'plus_minus': '-6',\n   'pts': '7',\n   'reb': '1',\n   'stl': '1',\n   'to': '0'},\n  {'3pta': '1',\n   '3ptm': '1',\n   'ast': '1',\n   'blk': '0',\n   'dreb': '0',\n   'fga': '3',\n   'fgm': '1',\n   'fta': '2',\n   'ftm': '2',\n   'injured': False,\n   'min': '7',\n   'name': 'J. Jack',\n   'oreb': '0',\n   'pf': '1',\n   'player_id': '2768',\n   'plus_minus': '+0',\n   'pts': '5',\n   'reb': '0',\n   'stl': '0',\n   'to': '2'},\n  {'3pta': '2',\n   '3ptm': '0',\n   'ast': '6',\n   'blk': '1',\n   'dreb': '1',\n   'fga': '4',\n   'fgm': '1',\n   'fta': '3',\n   'ftm': '3',\n   'injured': False,\n   'min': '12',\n   'name': 'R. Boatright',\n   'oreb': '0',\n   'pf': '0',\n   'player_id': '2578231',\n   'plus_minus': '+3',\n   'pts': '5',\n   'reb': '1',\n   'stl': '0',\n   'to': '1'},\n  {'3pta': '5',\n   '3ptm': '1',\n   'ast': '3',\n   'blk': '0',\n   'dreb': '4',\n   'fga': '10',\n   'fgm': '4',\n   'fta': '2',\n   'ftm': '2',\n   'injured': False,\n   'min': '22',\n   'name': 'B. Bogdanovic',\n   'oreb': '0',\n   'pf': '1',\n   'player_id': '3593',\n   'plus_minus': '+2',\n   'pts': '11',\n   'reb': '4',\n   'stl': '0',\n   'to': '1'},\n  {'3pta': '1',\n   '3ptm': '0',\n   'ast': '2',\n   'blk': '0',\n   'dreb': '0',\n   'fga': '5',\n   'fgm': '2',\n   'fta': '0',\n   'ftm': '0',\n   'injured': False,\n   'min': '14',\n   'name': 'S. Karasev',\n   'oreb': '2',\n   'pf': '2',\n   'player_id': '2959745',\n   'plus_minus': '-4',\n   'pts': '4',\n   'reb': '2',\n   'stl': '0',\n   'to': '2'},\n  {'3pta': '1',\n   '3ptm': '0',\n   'ast': '1',\n   'blk': '0',\n   'dreb': '1',\n   'fga': '3',\n   'fgm': '2',\n   'fta': '6',\n   'ftm': '5',\n   'injured': False,\n   'min': '19',\n   'name': 'D. Jones',\n   'oreb': '0',\n   'pf': '3',\n   'player_id': '2008',\n   'plus_minus': '+7',\n   'pts': '9',\n   'reb': '1',\n   'stl': '0',\n   'to': '0'},\n  {'injured': True, 'name': 'C. McCullough', 'player_id': '3153165'},\n  {'injured': True, 'name': 'A. Bargnani', 'player_id': '2987'},\n  {'injured': True, 'name': 'D. Sloan', 'player_id': '4303'},\n  {'injured': True, 'name': 'R. Hollis-Jefferson', 'player_id': '3064291'},\n  {'injured': True, 'name': 'M. Brown', 'player_id': '2530750'},\n  None,\n  None],\n 'away_team_name': 'bos',\n 'game_id': 400830047,\n 'home_score': '105',\n 'home_team': [{'3pta': '0',\n   '3ptm': '0',\n   'ast': '0',\n   'blk': '0',\n   'dreb': '6',\n   'fga': '17',\n   'fgm': '9',\n   'fta': '1',\n   'ftm': '1',\n   'injured': False,\n   'min': '26',\n   'name': 'T. Young',\n   'oreb': '2',\n   'pf': '0',\n   'player_id': '3244',\n   'plus_minus': '-11',\n   'pts': '19',\n   'reb': '8',\n   'stl': '0',\n   'to': '2'},\n  {'3pta': '1',\n   '3ptm': '0',\n   'ast': '4',\n   'blk': '0',\n   'dreb': '3',\n   'fga': '7',\n   'fgm': '2',\n   'fta': '4',\n   'ftm': '4',\n   'injured': False,\n   'min': '27',\n   'name': 'J. Johnson',\n   'oreb': '0',\n   'pf': '2',\n   'player_id': '1007',\n   'plus_minus': '-3',\n   'pts': '8',\n   'reb': '3',\n   'stl': '0',\n   'to': '1'},\n  {'3pta': '1',\n   '3ptm': '0',\n   'ast': '3',\n   'blk': '2',\n   'dreb': '3',\n   'fga': '6',\n   'fgm': '2',\n   'fta': '10',\n   'ftm': '8',\n   'injured': False,\n   'min': '27',\n   'name': 'B. Lopez',\n   'oreb': '2',\n   'pf': '2',\n   'player_id': '3448',\n   'plus_minus': '-6',\n   'pts': '12',\n   'reb': '5',\n   'stl': '1',\n   'to': '1'},\n  {'3pta': '4',\n   '3ptm': '1',\n   'ast': '1',\n   'blk': '0',\n   'dreb': '1',\n   'fga': '8',\n   'fgm': '3',\n   'fta': '3',\n   'ftm': '3',\n   'injured': False,\n   'min': '29',\n   'name': 'S. Larkin',\n   'oreb': '0',\n   'pf': '2',\n   'player_id': '2596158',\n   'plus_minus': '-7',\n   'pts': '10',\n   'reb': '1',\n   'stl': '0',\n   'to': '3'},\n  {'3pta': '1',\n   '3ptm': '1',\n   'ast': '1',\n   'blk': '0',\n   'dreb': '2',\n   'fga': '6',\n   'fgm': '2',\n   'fta': '0',\n   'ftm': '0',\n   'injured': False,\n   'min': '14',\n   'name': 'W. Ellington',\n   'oreb': '0',\n   'pf': '0',\n   'player_id': '3981',\n   'plus_minus': '-10',\n   'pts': '5',\n   'reb': '2',\n   'stl': '1',\n   'to': '1'},\n  {'3pta': '3',\n   '3ptm': '2',\n   'ast': '0',\n   'blk': '0',\n   'dreb': '1',\n   'fga': '4',\n   'fgm': '3',\n   'fta': '0',\n   'ftm': '0',\n   'injured': False,\n   'min': '9',\n   'name': 'J. Harper',\n   'oreb': '1',\n   'pf': '2',\n   'player_id': '6438',\n   'plus_minus': '+14',\n   'pts': '8',\n   'reb': '2',\n   'stl': '0',\n   'to': '0'},\n  {'3pta': '0',\n   '3ptm': '0',\n   'ast': '0',\n   'blk': '2',\n   'dreb': '8',\n   'fga': '5',\n   'fgm': '1',\n   'fta': '0',\n   'ftm': '0',\n   'injured': False,\n   'min': '18',\n   'name': 'T. Robinson',\n   'oreb': '4',\n   'pf': '1',\n   'player_id': '6618',\n   'plus_minus': '-13',\n   'pts': '2',\n   'reb': '12',\n   'stl': '1',\n   'to': '1'},\n  {'3pta': '0',\n   '3ptm': '0',\n   'ast': '0',\n   'blk': '0',\n   'dreb': '2',\n   'fga': '2',\n   'fgm': '0',\n   'fta': '0',\n   'ftm': '0',\n   'injured': False,\n   'min': '5',\n   'name': 'W. Reed',\n   'oreb': '0',\n   'pf': '0',\n   'player_id': '2326015',\n   'plus_minus': '+5',\n   'pts': '0',\n   'reb': '2',\n   'stl': '1',\n   'to': '0'},\n  {'3pta': '0',\n   '3ptm': '0',\n   'ast': '0',\n   'blk': '0',\n   'dreb': '0',\n   'fga': '0',\n   'fgm': '0',\n   'fta': '0',\n   'ftm': '0',\n   'injured': False,\n   'min': '3',\n   'name': 'Q. Miller',\n   'oreb': '0',\n   'pf': '1',\n   'player_id': '6611',\n   'plus_minus': '+9',\n   'pts': '0',\n   'reb': '0',\n   'stl': '1',\n   'to': '0'},\n  {'3pta': '2',\n   '3ptm': '1',\n   'ast': '0',\n   'blk': '0',\n   'dreb': '1',\n   'fga': '7',\n   'fgm': '3',\n   'fta': '0',\n   'ftm': '0',\n   'injured': False,\n   'min': '9',\n   'name': 'C. Daniels',\n   'oreb': '0',\n   'pf': '1',\n   'player_id': '6482',\n   'plus_minus': '-6',\n   'pts': '7',\n   'reb': '1',\n   'stl': '1',\n   'to': '0'},\n  {'3pta': '1',\n   '3ptm': '1',\n   'ast': '1',\n   'blk': '0',\n   'dreb': '0',\n   'fga': '3',\n   'fgm': '1',\n   'fta': '2',\n   'ftm': '2',\n   'injured': False,\n   'min': '7',\n   'name': 'J. Jack',\n   'oreb': '0',\n   'pf': '1',\n   'player_id': '2768',\n   'plus_minus': '+0',\n   'pts': '5',\n   'reb': '0',\n   'stl': '0',\n   'to': '2'},\n  {'3pta': '2',\n   '3ptm': '0',\n   'ast': '6',\n   'blk': '1',\n   'dreb': '1',\n   'fga': '4',\n   'fgm': '1',\n   'fta': '3',\n   'ftm': '3',\n   'injured': False,\n   'min': '12',\n   'name': 'R. Boatright',\n   'oreb': '0',\n   'pf': '0',\n   'player_id': '2578231',\n   'plus_minus': '+3',\n   'pts': '5',\n   'reb': '1',\n   'stl': '0',\n   'to': '1'},\n  {'3pta': '5',\n   '3ptm': '1',\n   'ast': '3',\n   'blk': '0',\n   'dreb': '4',\n   'fga': '10',\n   'fgm': '4',\n   'fta': '2',\n   'ftm': '2',\n   'injured': False,\n   'min': '22',\n   'name': 'B. Bogdanovic',\n   'oreb': '0',\n   'pf': '1',\n   'player_id': '3593',\n   'plus_minus': '+2',\n   'pts': '11',\n   'reb': '4',\n   'stl': '0',\n   'to': '1'},\n  {'3pta': '1',\n   '3ptm': '0',\n   'ast': '2',\n   'blk': '0',\n   'dreb': '0',\n   'fga': '5',\n   'fgm': '2',\n   'fta': '0',\n   'ftm': '0',\n   'injured': False,\n   'min': '14',\n   'name': 'S. Karasev',\n   'oreb': '2',\n   'pf': '2',\n   'player_id': '2959745',\n   'plus_minus': '-4',\n   'pts': '4',\n   'reb': '2',\n   'stl': '0',\n   'to': '2'},\n  {'3pta': '1',\n   '3ptm': '0',\n   'ast': '1',\n   'blk': '0',\n   'dreb': '1',\n   'fga': '3',\n   'fgm': '2',\n   'fta': '6',\n   'ftm': '5',\n   'injured': False,\n   'min': '19',\n   'name': 'D. Jones',\n   'oreb': '0',\n   'pf': '3',\n   'player_id': '2008',\n   'plus_minus': '+7',\n   'pts': '9',\n   'reb': '1',\n   'stl': '0',\n   'to': '0'},\n  {'injured': True, 'name': 'C. McCullough', 'player_id': '3153165'},\n  {'injured': True, 'name': 'A. Bargnani', 'player_id': '2987'},\n  {'injured': True, 'name': 'D. Sloan', 'player_id': '4303'},\n  {'injured': True, 'name': 'R. Hollis-Jefferson', 'player_id': '3064291'},\n  {'injured': True, 'name': 'M. Brown', 'player_id': '2530750'},\n  None,\n  None],\n 'home_team_name': 'bkn'}"
       ],
       "metadata": {}
      }
     ],
     "input": [
      "from scrapeData import NBA_Game_Updater as NBA\n",
      "from scrapeData import scrape_game_data as scrape\n",
      "\n",
      "# teams = NBA.get_team_abbreviations()\n",
      "\n",
      "# NBA.get_game_ids(\"bos\", \"2016\")\n",
      "# team_game_ids = {team: NBA.get_game_ids(team, \"2016\") for team in teams}\n",
      "# team_game_ids\n",
      "# \n",
      "# for team in teams:\n",
      "#     print(team)\n",
      "# # \n",
      "# # game_ids\n",
      "# # \n",
      "# \n",
      "# # Get team IDs\n",
      "# # Get game IDs for each team\n",
      "\n",
      "\n",
      "scrape.scrape_gameid(400830047)\n",
      "#refactor.scrape_gameid(game_ids[0], 1)\n",
      "\n",
      "# scrape_gameid\n",
      "# team_to_game_ids_map = {team: NBA.get_game_ids(team, \"2016\") for team in teams}\n",
      "# team_to_game_ids_map"
     ],
     "language": "python",
     "prompt_number": 8
    },
    {
     "cell_type": "code",
     "execution_count": null,
     "metadata": {},
     "outputs": [],
     "input": [
      "date = \"Fri, Mar 11\".split(\",\")[1]\n",
      "split_date = date.split(\" \")[1:]\n",
      "month = split_date[0]\n",
      "day = split_date[1]\n",
      "(month, day)"
     ],
     "language": "python",
     "prompt_number": 2
    },
    {
     "cell_type": "code",
     "execution_count": null,
     "metadata": {},
     "outputs": [
      {
       "output_type": "stream",
       "stream": "stdout",
       "text": [
        "url: http://espn.go.com/nba/team/schedule/_/name/bkn/year/2016/seasontype/1/\nurl: http://espn.go.com/nba/team/schedule/_/name/bkn/year/2016/seasontype/2/"
       ]
      },
      {
       "output_type": "stream",
       "stream": "stdout",
       "text": [
        "\nurl: http://espn.go.com/nba/team/schedule/_/name/bkn/year/2016/seasontype/3/"
       ]
      },
      {
       "output_type": "stream",
       "stream": "stdout",
       "text": [
        "\nurl: http://espn.go.com/nba/team/schedule/_/name/nyk/year/2016/seasontype/1/"
       ]
      },
      {
       "output_type": "stream",
       "stream": "stdout",
       "text": [
        "\nurl: http://espn.go.com/nba/team/schedule/_/name/nyk/year/2016/seasontype/2/"
       ]
      },
      {
       "output_type": "stream",
       "stream": "stdout",
       "text": [
        "\nurl: http://espn.go.com/nba/team/schedule/_/name/nyk/year/2016/seasontype/3/"
       ]
      },
      {
       "output_type": "stream",
       "stream": "stdout",
       "text": [
        "\nurl: http://espn.go.com/nba/team/schedule/_/name/phi/year/2016/seasontype/1/"
       ]
      },
      {
       "output_type": "stream",
       "stream": "stdout",
       "text": [
        "\nurl: http://espn.go.com/nba/team/schedule/_/name/phi/year/2016/seasontype/2/"
       ]
      },
      {
       "output_type": "stream",
       "stream": "stdout",
       "text": [
        "\nurl: http://espn.go.com/nba/team/schedule/_/name/phi/year/2016/seasontype/3/"
       ]
      },
      {
       "output_type": "stream",
       "stream": "stdout",
       "text": [
        "\nurl: http://espn.go.com/nba/team/schedule/_/name/tor/year/2016/seasontype/1/"
       ]
      },
      {
       "output_type": "stream",
       "stream": "stdout",
       "text": [
        "\nurl: http://espn.go.com/nba/team/schedule/_/name/tor/year/2016/seasontype/2/"
       ]
      },
      {
       "output_type": "stream",
       "stream": "stdout",
       "text": [
        "\nurl: http://espn.go.com/nba/team/schedule/_/name/tor/year/2016/seasontype/3/"
       ]
      },
      {
       "output_type": "stream",
       "stream": "stdout",
       "text": [
        "\nurl: http://espn.go.com/nba/team/schedule/_/name/gs/year/2016/seasontype/1/"
       ]
      },
      {
       "output_type": "stream",
       "stream": "stdout",
       "text": [
        "\nurl: http://espn.go.com/nba/team/schedule/_/name/gs/year/2016/seasontype/2/"
       ]
      },
      {
       "output_type": "stream",
       "stream": "stdout",
       "text": [
        "\nurl: http://espn.go.com/nba/team/schedule/_/name/gs/year/2016/seasontype/3/"
       ]
      },
      {
       "output_type": "pyout",
       "prompt_number": 1,
       "text": [
        "3"
       ],
       "metadata": {}
      }
     ],
     "input": [
      "1+2"
     ],
     "language": "python",
     "prompt_number": 1
    },
    {
     "cell_type": "code",
     "execution_count": null,
     "metadata": {},
     "outputs": [],
     "input": [
      ""
     ],
     "language": "python"
    },
    {
     "cell_type": "code",
     "execution_count": null,
     "metadata": {},
     "outputs": [],
     "input": [
      ""
     ],
     "language": "python"
    }
   ]
  }
 ],
 "cells": [],
 "metadata": {},
 "nbformat": 3,
 "nbformat_minor": 0
}